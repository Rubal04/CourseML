{
 "cells": [
  {
   "cell_type": "markdown",
   "id": "34205570",
   "metadata": {},
   "source": [
    "# Clustering jerárquico y dendrogramas\n",
    "Antes de empezar, pongamos un poco de notación para hablar todos el mismo idioma\n",
    "\n",
    "    X dataset (array de n x m) de puntos a clusterizar\n",
    "    n número de datos\n",
    "    m número de rasgos\n",
    "    Z array de enlace del cluster con la información de las uniones\n",
    "    k número de clusters"
   ]
  },
  {
   "cell_type": "markdown",
   "id": "828cc0d3",
   "metadata": {},
   "source": []
  }
 ],
 "metadata": {
  "kernelspec": {
   "display_name": "Python 3 (ipykernel)",
   "language": "python",
   "name": "python3"
  },
  "language_info": {
   "codemirror_mode": {
    "name": "ipython",
    "version": 3
   },
   "file_extension": ".py",
   "mimetype": "text/x-python",
   "name": "python",
   "nbconvert_exporter": "python",
   "pygments_lexer": "ipython3",
   "version": "3.9.7"
  }
 },
 "nbformat": 4,
 "nbformat_minor": 5
}
