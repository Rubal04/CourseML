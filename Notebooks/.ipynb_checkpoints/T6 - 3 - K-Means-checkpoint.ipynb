{
 "cells": [
  {
   "cell_type": "markdown",
   "id": "bdd1423d",
   "metadata": {},
   "source": [
    "# El método de k-means"
   ]
  },
  {
   "cell_type": "code",
   "execution_count": 1,
   "id": "be7225cf",
   "metadata": {},
   "outputs": [],
   "source": [
    "import numpy as np"
   ]
  },
  {
   "cell_type": "code",
   "execution_count": 2,
   "id": "229ebaba",
   "metadata": {},
   "outputs": [
    {
     "data": {
      "text/plain": [
       "array([[0.55510584, 0.11429545, 0.24590339],\n",
       "       [0.45426694, 0.51500607, 0.69458458],\n",
       "       [0.61838944, 0.5464801 , 0.31980856],\n",
       "       [0.72789702, 0.3870313 , 0.41028436],\n",
       "       [0.4572311 , 0.07934248, 0.9595853 ],\n",
       "       [0.516026  , 0.81869425, 0.50266053],\n",
       "       [0.57165338, 0.43531432, 0.60328954],\n",
       "       [0.80000627, 0.05721076, 0.13188468],\n",
       "       [0.91031244, 0.70979792, 0.24519382],\n",
       "       [0.45765688, 0.01232713, 0.20122689],\n",
       "       [0.76344213, 0.48326614, 0.62869332],\n",
       "       [0.73031043, 0.28386391, 0.88931392],\n",
       "       [0.65298059, 0.67576844, 0.44703804],\n",
       "       [0.51109966, 0.52363351, 0.56666985],\n",
       "       [0.37101858, 0.88695643, 0.51794857],\n",
       "       [0.52202088, 0.5423856 , 0.76085113],\n",
       "       [0.2758118 , 0.43040541, 0.07206758],\n",
       "       [0.97475424, 0.17746636, 0.04942632],\n",
       "       [0.44800345, 0.88656745, 0.1338101 ],\n",
       "       [0.73455978, 0.12550454, 0.19734752],\n",
       "       [0.44884639, 0.99262044, 0.26855462],\n",
       "       [0.71521079, 0.1056521 , 0.1488945 ],\n",
       "       [0.04646647, 0.87780253, 0.71372283],\n",
       "       [0.69429659, 0.32838354, 0.7613475 ],\n",
       "       [0.11789239, 0.82890409, 0.26223992],\n",
       "       [0.73300458, 0.866203  , 0.82416891],\n",
       "       [0.33280524, 0.16505611, 0.29002091],\n",
       "       [0.99861791, 0.17320229, 0.33597934],\n",
       "       [0.93266341, 0.91011806, 0.81411213],\n",
       "       [0.28656689, 0.26787144, 0.56380149]])"
      ]
     },
     "execution_count": 2,
     "metadata": {},
     "output_type": "execute_result"
    }
   ],
   "source": [
    "data = np.random.random(90).reshape(30,3)\n",
    "data"
   ]
  },
  {
   "cell_type": "code",
   "execution_count": 3,
   "id": "1d8cc7b6",
   "metadata": {},
   "outputs": [
    {
     "data": {
      "text/plain": [
       "array([[0.44884639, 0.99262044, 0.26855462],\n",
       "       [0.4572311 , 0.07934248, 0.9595853 ]])"
      ]
     },
     "execution_count": 3,
     "metadata": {},
     "output_type": "execute_result"
    }
   ],
   "source": [
    "c1 = np.random.choice(range(len(data)))\n",
    "c2 = np.random.choice(range(len(data)))\n",
    "clust_centers = np.vstack([data[c1], data[c2]])\n",
    "clust_centers"
   ]
  },
  {
   "cell_type": "code",
   "execution_count": 4,
   "id": "3512af1e",
   "metadata": {},
   "outputs": [],
   "source": [
    "from scipy.cluster.vq import vq"
   ]
  },
  {
   "cell_type": "code",
   "execution_count": 5,
   "id": "2fd4c4de",
   "metadata": {},
   "outputs": [
    {
     "data": {
      "text/plain": [
       "(array([1, 1, 0, 0, 1, 0, 1, 1, 0, 1, 1, 1, 0, 0, 0, 1, 0, 0, 0, 1, 0, 1,\n",
       "        0, 1, 0, 0, 1, 1, 0, 1]),\n",
       " array([0.72120943, 0.50993816, 0.48001356, 0.68168525, 0.        ,\n",
       "        0.29928081, 0.51648337, 0.89614337, 0.54174277, 0.76131381,\n",
       "        0.60531729, 0.34833806, 0.41703992, 0.55919308, 0.28181447,\n",
       "        0.50803731, 0.62018857, 0.99452122, 0.17147605, 0.81243373,\n",
       "        0.        , 0.85115526, 0.61095621, 0.39688754, 0.36928778,\n",
       "        0.63673737, 0.68640009, 0.83114002, 0.73383824, 0.4704405 ]))"
      ]
     },
     "execution_count": 5,
     "metadata": {},
     "output_type": "execute_result"
    }
   ],
   "source": [
    "clusters = vq(data, clust_centers)\n",
    "clusters"
   ]
  },
  {
   "cell_type": "code",
   "execution_count": 6,
   "id": "b746bf1c",
   "metadata": {},
   "outputs": [
    {
     "data": {
      "text/plain": [
       "array([1, 1, 0, 0, 1, 0, 1, 1, 0, 1, 1, 1, 0, 0, 0, 1, 0, 0, 0, 1, 0, 1,\n",
       "       0, 1, 0, 0, 1, 1, 0, 1])"
      ]
     },
     "execution_count": 6,
     "metadata": {},
     "output_type": "execute_result"
    }
   ],
   "source": [
    "labels = clusters[0]\n",
    "labels"
   ]
  },
  {
   "cell_type": "code",
   "execution_count": 13,
   "id": "14870197",
   "metadata": {},
   "outputs": [
    {
     "ename": "ModuleNotFoundError",
     "evalue": "No module named 'plotly'",
     "output_type": "error",
     "traceback": [
      "\u001b[1;31m---------------------------------------------------------------------------\u001b[0m",
      "\u001b[1;31mModuleNotFoundError\u001b[0m                       Traceback (most recent call last)",
      "Input \u001b[1;32mIn [13]\u001b[0m, in \u001b[0;36m<cell line: 1>\u001b[1;34m()\u001b[0m\n\u001b[1;32m----> 1\u001b[0m \u001b[38;5;28;01mimport\u001b[39;00m \u001b[38;5;21;01mplotly\u001b[39;00m\u001b[38;5;21;01m.\u001b[39;00m\u001b[38;5;21;01mplotly\u001b[39;00m \u001b[38;5;28;01mas\u001b[39;00m \u001b[38;5;21;01mpy\u001b[39;00m\n\u001b[0;32m      2\u001b[0m \u001b[38;5;28;01mimport\u001b[39;00m \u001b[38;5;21;01mplotly\u001b[39;00m\u001b[38;5;21;01m.\u001b[39;00m\u001b[38;5;21;01mgraph_objs\u001b[39;00m \u001b[38;5;28;01mas\u001b[39;00m \u001b[38;5;21;01mgo\u001b[39;00m\n\u001b[0;32m      3\u001b[0m \u001b[38;5;28;01mimport\u001b[39;00m \u001b[38;5;21;01mplotly\u001b[39;00m\u001b[38;5;21;01m.\u001b[39;00m\u001b[38;5;21;01moffline\u001b[39;00m \u001b[38;5;28;01mas\u001b[39;00m \u001b[38;5;21;01mply\u001b[39;00m\n",
      "\u001b[1;31mModuleNotFoundError\u001b[0m: No module named 'plotly'"
     ]
    }
   ],
   "source": [
    "import plotly.plotly as py\n",
    "import plotly.graph_objs as go\n",
    "import plotly.offline as ply"
   ]
  },
  {
   "cell_type": "code",
   "execution_count": 8,
   "id": "fb70eb6d",
   "metadata": {},
   "outputs": [
    {
     "ename": "NameError",
     "evalue": "name 'go' is not defined",
     "output_type": "error",
     "traceback": [
      "\u001b[1;31m---------------------------------------------------------------------------\u001b[0m",
      "\u001b[1;31mNameError\u001b[0m                                 Traceback (most recent call last)",
      "Input \u001b[1;32mIn [8]\u001b[0m, in \u001b[0;36m<cell line: 19>\u001b[1;34m()\u001b[0m\n\u001b[0;32m     16\u001b[0m         y2\u001b[38;5;241m.\u001b[39mappend(data[i,\u001b[38;5;241m1\u001b[39m])\n\u001b[0;32m     17\u001b[0m         z2\u001b[38;5;241m.\u001b[39mappend(data[i,\u001b[38;5;241m2\u001b[39m])\n\u001b[1;32m---> 19\u001b[0m cluster1 \u001b[38;5;241m=\u001b[39m \u001b[43mgo\u001b[49m\u001b[38;5;241m.\u001b[39mScatter3d(\n\u001b[0;32m     20\u001b[0m     x\u001b[38;5;241m=\u001b[39mx,\n\u001b[0;32m     21\u001b[0m     y\u001b[38;5;241m=\u001b[39my,\n\u001b[0;32m     22\u001b[0m     z\u001b[38;5;241m=\u001b[39mz,\n\u001b[0;32m     23\u001b[0m     mode\u001b[38;5;241m=\u001b[39m\u001b[38;5;124m'\u001b[39m\u001b[38;5;124mmarkers\u001b[39m\u001b[38;5;124m'\u001b[39m,\n\u001b[0;32m     24\u001b[0m     marker\u001b[38;5;241m=\u001b[39m\u001b[38;5;28mdict\u001b[39m(\n\u001b[0;32m     25\u001b[0m         size\u001b[38;5;241m=\u001b[39m\u001b[38;5;241m12\u001b[39m,\n\u001b[0;32m     26\u001b[0m         line\u001b[38;5;241m=\u001b[39m\u001b[38;5;28mdict\u001b[39m(\n\u001b[0;32m     27\u001b[0m             color\u001b[38;5;241m=\u001b[39m\u001b[38;5;124m'\u001b[39m\u001b[38;5;124mrgba(217, 217, 217, 0.14)\u001b[39m\u001b[38;5;124m'\u001b[39m,\n\u001b[0;32m     28\u001b[0m             width\u001b[38;5;241m=\u001b[39m\u001b[38;5;241m0.5\u001b[39m\n\u001b[0;32m     29\u001b[0m         ),\n\u001b[0;32m     30\u001b[0m         opacity\u001b[38;5;241m=\u001b[39m\u001b[38;5;241m0.9\u001b[39m\n\u001b[0;32m     31\u001b[0m     ),\n\u001b[0;32m     32\u001b[0m     name\u001b[38;5;241m=\u001b[39m\u001b[38;5;124m\"\u001b[39m\u001b[38;5;124mCluster 0\u001b[39m\u001b[38;5;124m\"\u001b[39m\n\u001b[0;32m     33\u001b[0m )\n\u001b[0;32m     36\u001b[0m cluster2 \u001b[38;5;241m=\u001b[39m go\u001b[38;5;241m.\u001b[39mScatter3d(\n\u001b[0;32m     37\u001b[0m     x\u001b[38;5;241m=\u001b[39mx2,\n\u001b[0;32m     38\u001b[0m     y\u001b[38;5;241m=\u001b[39my2,\n\u001b[1;32m   (...)\u001b[0m\n\u001b[0;32m     51\u001b[0m     name\u001b[38;5;241m=\u001b[39m\u001b[38;5;124m\"\u001b[39m\u001b[38;5;124mCluster 1\u001b[39m\u001b[38;5;124m\"\u001b[39m\n\u001b[0;32m     52\u001b[0m )\n\u001b[0;32m     53\u001b[0m data2 \u001b[38;5;241m=\u001b[39m [cluster1, cluster2]\n",
      "\u001b[1;31mNameError\u001b[0m: name 'go' is not defined"
     ]
    }
   ],
   "source": [
    "x = []\n",
    "y = []\n",
    "z = []\n",
    "x2 = []\n",
    "y2 = []\n",
    "z2 = []\n",
    "\n",
    "for i in range(0, len(labels)):\n",
    "    if(labels[i] == 0):\n",
    "        x.append(data[i,0])\n",
    "        y.append(data[i,1])\n",
    "        z.append(data[i,2])\n",
    "        \n",
    "    else:\n",
    "        x2.append(data[i,0])\n",
    "        y2.append(data[i,1])\n",
    "        z2.append(data[i,2])\n",
    "\n",
    "cluster1 = go.Scatter3d(\n",
    "    x=x,\n",
    "    y=y,\n",
    "    z=z,\n",
    "    mode='markers',\n",
    "    marker=dict(\n",
    "        size=12,\n",
    "        line=dict(\n",
    "            color='rgba(217, 217, 217, 0.14)',\n",
    "            width=0.5\n",
    "        ),\n",
    "        opacity=0.9\n",
    "    ),\n",
    "    name=\"Cluster 0\"\n",
    ")\n",
    "\n",
    "\n",
    "cluster2 = go.Scatter3d(\n",
    "    x=x2,\n",
    "    y=y2,\n",
    "    z=z2,\n",
    "    mode='markers',\n",
    "    marker=dict(\n",
    "        color='rgb(127, 127, 127)',\n",
    "        size=12,\n",
    "        symbol='circle',\n",
    "        line=dict(\n",
    "            color='rgb(204, 204, 204)',\n",
    "            width=1\n",
    "        ),\n",
    "        opacity=0.9\n",
    "    ),\n",
    "    name=\"Cluster 1\"\n",
    ")\n",
    "data2 = [cluster1, cluster2]\n",
    "layout = go.Layout(\n",
    "    margin=dict(\n",
    "        l=0,\n",
    "        r=0,\n",
    "        b=0,\n",
    "        t=30\n",
    "    )\n",
    ")\n",
    "\n",
    "fig = go.Figure(data=data2, layout=layout)\n",
    "ply.plot(fig, filename='Clusters')"
   ]
  },
  {
   "cell_type": "code",
   "execution_count": 9,
   "id": "55ba2910",
   "metadata": {},
   "outputs": [],
   "source": [
    "from scipy.cluster.vq import kmeans"
   ]
  },
  {
   "cell_type": "code",
   "execution_count": 11,
   "id": "085b773e",
   "metadata": {},
   "outputs": [
    {
     "data": {
      "text/plain": [
       "(array([[0.5039202 , 0.73408955, 0.47622874],\n",
       "        [0.65334097, 0.21305253, 0.42779993]]),\n",
       " 0.357455147234795)"
      ]
     },
     "execution_count": 11,
     "metadata": {},
     "output_type": "execute_result"
    }
   ],
   "source": [
    "kmeans(data, clust_centers)"
   ]
  },
  {
   "cell_type": "code",
   "execution_count": 12,
   "id": "0d20cf8b",
   "metadata": {},
   "outputs": [
    {
     "data": {
      "text/plain": [
       "(array([[0.54830423, 0.61171481, 0.56607995],\n",
       "        [0.64939208, 0.15123557, 0.18586124]]),\n",
       " 0.3365705550623349)"
      ]
     },
     "execution_count": 12,
     "metadata": {},
     "output_type": "execute_result"
    }
   ],
   "source": [
    "kmeans(data, 2)"
   ]
  }
 ],
 "metadata": {
  "kernelspec": {
   "display_name": "Python 3 (ipykernel)",
   "language": "python",
   "name": "python3"
  },
  "language_info": {
   "codemirror_mode": {
    "name": "ipython",
    "version": 3
   },
   "file_extension": ".py",
   "mimetype": "text/x-python",
   "name": "python",
   "nbconvert_exporter": "python",
   "pygments_lexer": "ipython3",
   "version": "3.9.7"
  }
 },
 "nbformat": 4,
 "nbformat_minor": 5
}
